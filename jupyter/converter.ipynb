{
 "metadata": {
  "language_info": {
   "codemirror_mode": {
    "name": "ipython",
    "version": 3
   },
   "file_extension": ".py",
   "mimetype": "text/x-python",
   "name": "python",
   "nbconvert_exporter": "python",
   "pygments_lexer": "ipython3",
   "version": "3.8.5-final"
  },
  "orig_nbformat": 2,
  "kernelspec": {
   "name": "python3",
   "display_name": "Python 3.8.5 64-bit (conda)",
   "metadata": {
    "interpreter": {
     "hash": "fb7cc8576db653ad39130a3de076473a52a76877472a16e179e999bf4ea6505c"
    }
   }
  }
 },
 "nbformat": 4,
 "nbformat_minor": 2,
 "cells": [
  {
   "cell_type": "code",
   "execution_count": 2,
   "metadata": {},
   "outputs": [],
   "source": [
    "import xml.etree.ElementTree as ET\n",
    "import pprint\n",
    "import json\n",
    "from pathlib import Path\n",
    "\n",
    "pp = pprint.PrettyPrinter(indent=4)"
   ]
  },
  {
   "cell_type": "code",
   "execution_count": 3,
   "metadata": {},
   "outputs": [],
   "source": [
    "PATH_DATA = Path() / \"../data\"\n",
    "INPUT_FILE = PATH_DATA / \"original/bordils.kml\"\n",
    "\n",
    "KML_NAMESPACE = {\n",
    "    \"\": \"http://www.opengis.net/kml/2.2\",\n",
    "    \"gx\": \"http://www.google.com/kml/ext/2.2\",\n",
    "    \"kml\": \"http://www.opengis.net/kml/2.2\",\n",
    "    \"atom\": \"http://www.w3.org/2005/Atom\"\n",
    "}"
   ]
  },
  {
   "cell_type": "code",
   "execution_count": 7,
   "metadata": {},
   "outputs": [
    {
     "output_type": "stream",
     "name": "stdout",
     "text": [
      "{\n    \"nodes\": [\n        {\n            \"id\": 1,\n            \"latitude\": 42.04422040526229,\n            \"longitude\": 2.910072245208655\n        },\n        {\n            \"id\": 2,\n            \"latitude\": 42.04431006859899,\n            \"longitude\": 2.91198803731413\n        },\n        {\n            \"id\": 3,\n            \"latitude\": 42.04386317842417,\n            \"longitude\": 2.911919460385735\n        },\n        {\n            \"id\": 4,\n            \"latitude\": 42.04318808395289,\n            \"longitude\": 2.910537561947095\n        },\n        {\n            \"id\": 5,\n            \"latitude\": 42.0421212504205,\n            \"longitude\": 2.912124690400557\n        }\n    ],\n    \"streets\": []\n}\n"
     ]
    }
   ],
   "source": [
    "for key, val in KML_NAMESPACE.items():\n",
    "    ET.register_namespace(key, val)\n",
    "\n",
    "tree: ET = ET.parse(INPUT_FILE)\n",
    "\n",
    "root = tree.getroot()\n",
    "\n",
    "result = {\n",
    "    'nodes':[],\n",
    "    'streets': []\n",
    "}\n",
    "\n",
    "for placemark in root.findall('./Document/Placemark', KML_NAMESPACE):\n",
    "    coordinates = placemark.find('Point/coordinates', KML_NAMESPACE).text.split(',')[:2]\n",
    "    result['nodes'].append({\n",
    "        'id': int(placemark.find('name', KML_NAMESPACE).text),\n",
    "        'latitude': float(coordinates[1]),\n",
    "        'longitude': float(coordinates[0])\n",
    "    })\n",
    "\n",
    "print(json.dumps(result, indent=4, sort_keys=True))"
   ]
  },
  {
   "cell_type": "code",
   "execution_count": null,
   "metadata": {},
   "outputs": [],
   "source": []
  }
 ]
}