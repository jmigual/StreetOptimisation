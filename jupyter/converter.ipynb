{
 "metadata": {
  "language_info": {
   "codemirror_mode": {
    "name": "ipython",
    "version": 3
   },
   "file_extension": ".py",
   "mimetype": "text/x-python",
   "name": "python",
   "nbconvert_exporter": "python",
   "pygments_lexer": "ipython3",
   "version": "3.8.5-final"
  },
  "orig_nbformat": 2,
  "kernelspec": {
   "name": "python3",
   "display_name": "Python 3.8.5 64-bit (conda)",
   "metadata": {
    "interpreter": {
     "hash": "fb7cc8576db653ad39130a3de076473a52a76877472a16e179e999bf4ea6505c"
    }
   }
  }
 },
 "nbformat": 4,
 "nbformat_minor": 2,
 "cells": [
  {
   "cell_type": "code",
   "execution_count": 65,
   "metadata": {},
   "outputs": [],
   "source": [
    "import xml.etree.ElementTree as ET\n",
    "from pathlib import Path"
   ]
  },
  {
   "cell_type": "code",
   "execution_count": 73,
   "metadata": {},
   "outputs": [],
   "source": [
    "PATH_DATA = Path() / \"../data\"\n",
    "INPUT_FILE = PATH_DATA / \"original/bordils.kml\"\n",
    "\n",
    "KML_NAMESPACE = {\n",
    "    \"\": \"http://www.opengis.net/kml/2.2\",\n",
    "    \"gx\": \"http://www.google.com/kml/ext/2.2\",\n",
    "    \"kml\": \"http://www.opengis.net/kml/2.2\",\n",
    "    \"atom\": \"http://www.w3.org/2005/Atom\"\n",
    "}"
   ]
  },
  {
   "cell_type": "code",
   "execution_count": 82,
   "metadata": {},
   "outputs": [
    {
     "output_type": "stream",
     "name": "stdout",
     "text": [
      " http://www.opengis.net/kml/2.2\ngx http://www.google.com/kml/ext/2.2\nkml http://www.opengis.net/kml/2.2\natom http://www.w3.org/2005/Atom\n{http://www.opengis.net/kml/2.2}Placemark\n{http://www.opengis.net/kml/2.2}Placemark\n{http://www.opengis.net/kml/2.2}Placemark\n{http://www.opengis.net/kml/2.2}Placemark\n{http://www.opengis.net/kml/2.2}Placemark\n"
     ]
    }
   ],
   "source": [
    "for key, val in KML_NAMESPACE.items():\n",
    "    ET.register_namespace(key, val)\n",
    "\n",
    "tree: ET = ET.parse(INPUT_FILE)\n",
    "\n",
    "root = tree.getroot()\n",
    "\n",
    "for placemark in root.findall('./Document/Placemark', KML_NAMESPACE):\n",
    "    print(placemark.tag)\n",
    "    name = placemark.find('name', KML_NAMESPACE)"
   ]
  },
  {
   "cell_type": "code",
   "execution_count": null,
   "metadata": {},
   "outputs": [],
   "source": []
  }
 ]
}